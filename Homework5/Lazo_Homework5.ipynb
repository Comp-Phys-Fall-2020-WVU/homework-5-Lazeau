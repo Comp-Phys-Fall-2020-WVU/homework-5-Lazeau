{
  "nbformat": 4,
  "nbformat_minor": 0,
  "metadata": {
    "colab": {
      "name": "Week5.ipynb",
      "provenance": [],
      "collapsed_sections": []
    },
    "kernelspec": {
      "name": "python3",
      "display_name": "Python 3"
    }
  },
  "cells": [
    {
      "cell_type": "markdown",
      "metadata": {
        "id": "yeaEvzrDlL9Q"
      },
      "source": [
        "# Week Five: Integration and differentiation\n",
        "\n",
        "To be graded, your notebook must be runnable start to finish. If you can't make an in-notebook test pass, comment it out for to attempt to get partial credit. You should replace the `...` markers with your code. Do not change the names of the pre-defined ALL_CAPS variables and functions. (If you start from scratch, make sure you match the requested function names and requested ALL_CAPS variables). Other that that, you are free to define or make anything you wish. Remember that functions will often be tested with different numbers than the ones you are given."
      ]
    },
    {
      "cell_type": "code",
      "metadata": {
        "id": "OjKrdy0slL9R"
      },
      "source": [
        "# EID is your 6+2 UC Electronic ID\n",
        "EID = '800215825'\n",
        "NAME = 'Matthew Lazo'"
      ],
      "execution_count": 32,
      "outputs": []
    },
    {
      "cell_type": "code",
      "metadata": {
        "id": "rqYzEuL9lL9T"
      },
      "source": [
        "%matplotlib inline\n",
        "import numpy as np\n",
        "import matplotlib.pyplot as plt"
      ],
      "execution_count": 33,
      "outputs": []
    },
    {
      "cell_type": "markdown",
      "metadata": {
        "id": "6Wc24vgFlL9W"
      },
      "source": [
        "# Problem 1: 2D Trapezoidal rule\n",
        "\n",
        "You can extend the trapezoidal rule to 2D. I'll give you a few hints:\n",
        "\n",
        "The weight matrix is:\n",
        "$$\n",
        "W_{ij} = \\begin{matrix}\n",
        "1 & 2 & 2 & \\cdots & 2 & 2 & 1 \\\\\n",
        "2 & 4 & 4 & \\cdots & 4 & 4 & 2 \\\\\n",
        "2 & 4 & 4 & \\cdots & 4 & 4 & 2 \\\\\n",
        "\\vdots & \\vdots & \\vdots & \\ddots & \\vdots & \\vdots & \\vdots \\\\\n",
        "2 & 4 & 4 & \\cdots & 4 & 4 & 2 \\\\\n",
        "2 & 4 & 4 & \\cdots & 4 & 4 & 2 \\\\\n",
        "1 & 2 & 2 & \\cdots & 2 & 2 & 1\n",
        "\\end{matrix}\n",
        "$$\n",
        "\n",
        "If you use the trick I used in the slides instead of explicitly creating this matrix, you would split the sum into 4 parts. However, it's really quite easy to make the matrix above\n",
        "\n",
        "The \"bin\" width $h$ is joined by the 2nd dimension bin width of $k$, and then the trapezoidal rule integral value is \n",
        "\n",
        "$$\n",
        "I_\\mathrm{tr} = \\frac{1}{4} h k \\sum_i \\sum_j W_{ij} f(x_{i}, y_{j})\n",
        "$$"
      ]
    },
    {
      "cell_type": "markdown",
      "metadata": {
        "id": "T_0UBJSElL9W"
      },
      "source": [
        "Write a function that takes a 2-parameter function 'f' and integrates it with the given parameters (further explanations are built into the docstring of the function). I'm writing a Numpy-style docstring.\n",
        "\n",
        "See also: <http://mathfaculty.fullerton.edu/mathews/n2003/SimpsonsRule2DMod.html>"
      ]
    },
    {
      "cell_type": "code",
      "metadata": {
        "id": "Ggij7H-1lL9X"
      },
      "source": [
        "def trap_2d(f, xrange, yrange, xN, yN):\n",
        "    '''Integrate a 2D function with the trapezoidal rule.\n",
        "    \n",
        "    This takes a 2D function and integrates it over a 2D grid.\n",
        "    This uses the Trapezoidal rule in 2D.\n",
        "    \n",
        "    Parameters\n",
        "    ----------\n",
        "    f : callable\n",
        "        The function to integrate. The function should take an x and y value (possibly arrays).\n",
        "    xrange : (float, float)\n",
        "        The min and max values for x, as an array\n",
        "    yrange : (float, float)\n",
        "        The min and max values for y, as an array\n",
        "    xN : int\n",
        "        The number of evaluations along x\n",
        "    yN : int\n",
        "        The number of evaluations along x\n",
        "\n",
        "    Returns\n",
        "    -------\n",
        "    float\n",
        "        The total integral\n",
        "    \n",
        "    '''\n",
        "    # If these are *not* arrays, convert them into arrays. Otherwise, leave them alone.\n",
        "    # (If we used np.array, we'd needlessly make a copy if it aready was an array)\n",
        "    xrange = np.asarray(xrange)\n",
        "    yrange = np.asarray(yrange)\n",
        "    \n",
        "    # There are N-1 \"bins\"\n",
        "    h = (xrange[1] - xrange[0])/(xN-1) # x step size\n",
        "    k = (yrange[1] - yrange[0])/(yN-1) # y step size\n",
        "    \n",
        "    weights = np.full((xN, yN),4)\n",
        "    for i in range(yN):\n",
        "      for j in range(xN):\n",
        "        if i == 0 or i == yN-1 or j == 0 or j == xN-1:\n",
        "          weights[i,j] = 2\n",
        "    weights[0,0] = 1\n",
        "    weights[yN-1,0] = 1\n",
        "    weights[yN-1,xN-1] = 1\n",
        "    weights[0,yN-1] = 1\n",
        "\n",
        "    sum = 0\n",
        "    x = 0\n",
        "    y = 0\n",
        "    for i in range(0, xN):\n",
        "      for j in range(0, yN):\n",
        "        sum += weights[i,j] * f(x,y)\n",
        "        y += k\n",
        "      x += h\n",
        "    \n",
        "    print(0.25 * h * k * sum)\n",
        "    return 0.25 * h * k * sum\n"
      ],
      "execution_count": 34,
      "outputs": []
    },
    {
      "cell_type": "markdown",
      "metadata": {
        "id": "eYukXDtjlL9Z"
      },
      "source": [
        "Feel free to add more tests, I'm adding the simplest one I can think of:"
      ]
    },
    {
      "cell_type": "code",
      "metadata": {
        "id": "_1PpdGCHlL9Z"
      },
      "source": [
        "def f(x,y):\n",
        "    return 1\n",
        "\n",
        "def f1(x,y):\n",
        "  return -x**2\n",
        "\n",
        "def f2(x,y):\n",
        "  return x * y**2\n",
        "\n",
        "def f3(x,y):\n",
        "  return np.exp(x)"
      ],
      "execution_count": 46,
      "outputs": []
    },
    {
      "cell_type": "code",
      "metadata": {
        "id": "Olr6U7i2lL9b",
        "outputId": "b6ebf2d6-859e-41ba-a2a2-e1d57a18779f",
        "colab": {
          "base_uri": "https://localhost:8080/",
          "height": 68
        }
      },
      "source": [
        "area = trap_2d(f, [0, 10], [0, 10], 10, 10)\n",
        "assert np.isclose(area, 100)\n",
        "\n",
        "area2 = trap_2d(f1, [0, 10], [0, 10], 100, 100)\n",
        "assert np.isclose(area2, -3333, rtol=0.5)\n",
        "\n",
        "area4 = trap_2d(f3, [0, 10], [0, 10], 1000, 1000)\n",
        "assert np.isclose(area4, 220254, rtol=2.5)"
      ],
      "execution_count": 47,
      "outputs": [
        {
          "output_type": "stream",
          "text": [
            "100.00000000000001\n",
            "-3333.5033840084243\n",
            "220256.49707695513\n"
          ],
          "name": "stdout"
        }
      ]
    },
    {
      "cell_type": "markdown",
      "metadata": {
        "id": "wdXgP0MUlL9e"
      },
      "source": [
        "# Problem 2: MC integration\n",
        "\n",
        "Write a function that performs MC integration of an unknown function of N dimensions. You can use `f(*array)` to call the function with the correct number of arguments (it expands to `f(array[0], array[1], ..., array[N])`). Return **two** values; the estimated integral and the estimated error on the integral."
      ]
    },
    {
      "cell_type": "code",
      "metadata": {
        "id": "jSFm2C5WlL9e"
      },
      "source": [
        "def mc_integrate(f, N, samples, ranges):\n",
        "    '''\n",
        "    Integrate an ND function with a set of sampled MC points.\n",
        "    \n",
        "    Parameters\n",
        "    ----------\n",
        "    f : callable\n",
        "        The function to integrate. The function should take N\n",
        "        values (possibly equal length arrays).\n",
        "    N : int\n",
        "        The min and max values for x, as an array\n",
        "    samples : int\n",
        "        The number of samples to integrate over\n",
        "    ranges : array[2, N]\n",
        "        An array with the min and max for each dimension.\n",
        "\n",
        "    Returns\n",
        "    -------\n",
        "    float\n",
        "        The total integral\n",
        "    float\n",
        "        The estimated error = relative error * the total integral.\n",
        "    '''\n",
        "    \n",
        "    ranges = np.asarray(ranges) # Just making sure ranges is an array\n",
        "    \n",
        "    # Hint: You can turn a 1D array, such as arr = array([a, b]) into a 2D array\n",
        "    # with arr[:,np.newaxis] or arr[:,None] or arr.reshape(2,1) or arr.reshape(-1,1)\n",
        "    \n",
        "    # Our definition of ranges matches what you find in Scipy, and is natural to type,\n",
        "    # but is a but less natural to use, for example:\n",
        "    # widths = ranges[:,1] + ranges[:,0]\n",
        "\n",
        "    rands = []\n",
        "    for n in range(N):\n",
        "      rands.append(np.random.uniform(ranges[n,0], ranges[n,1], samples))\n",
        "    rands = np.array(rands)\n",
        "    \n",
        "    integral = np.average(f(*rands))\n",
        "    error = integral / np.sqrt(samples)\n",
        "\n",
        "    return integral,error"
      ],
      "execution_count": 54,
      "outputs": []
    },
    {
      "cell_type": "code",
      "metadata": {
        "id": "DGDLVGInlL9h"
      },
      "source": [
        "def f(x,y):\n",
        "    return x + y"
      ],
      "execution_count": 55,
      "outputs": []
    },
    {
      "cell_type": "code",
      "metadata": {
        "id": "P-85RziMlL9k"
      },
      "source": [
        "integral, error = mc_integrate(f, 2, 10000, [[0,1],[0,1]])"
      ],
      "execution_count": 70,
      "outputs": []
    },
    {
      "cell_type": "code",
      "metadata": {
        "id": "otYVywKelL9m",
        "outputId": "a12af20f-ab85-40cb-fc7d-6c1da9ec32c8",
        "colab": {
          "base_uri": "https://localhost:8080/",
          "height": 34
        }
      },
      "source": [
        "print(integral, error)"
      ],
      "execution_count": 71,
      "outputs": [
        {
          "output_type": "stream",
          "text": [
            "1.0052730105157124 0.010052730105157124\n"
          ],
          "name": "stdout"
        }
      ]
    },
    {
      "cell_type": "markdown",
      "metadata": {
        "id": "Gt52SJ_vlL9o"
      },
      "source": [
        "#### For comparison, we could use NQuad from Scipy:"
      ]
    },
    {
      "cell_type": "code",
      "metadata": {
        "id": "KhJ9THxflL9p"
      },
      "source": [
        "from scipy import integrate"
      ],
      "execution_count": 72,
      "outputs": []
    },
    {
      "cell_type": "code",
      "metadata": {
        "id": "tkCJJbDhlL9r",
        "outputId": "56a5f8fe-5622-4c3f-c538-753ff3aeb4ac",
        "colab": {
          "base_uri": "https://localhost:8080/",
          "height": 34
        }
      },
      "source": [
        "integrate.nquad(f, [[0,1],[0,1]])"
      ],
      "execution_count": 73,
      "outputs": [
        {
          "output_type": "execute_result",
          "data": {
            "text/plain": [
              "(1.0, 1.662923778137264e-14)"
            ]
          },
          "metadata": {
            "tags": []
          },
          "execution_count": 73
        }
      ]
    },
    {
      "cell_type": "markdown",
      "metadata": {
        "id": "rM4XK41ZlL9t"
      },
      "source": [
        "# Problem 3: Second derivatives"
      ]
    },
    {
      "cell_type": "markdown",
      "metadata": {
        "id": "J7ASLSIllL9t"
      },
      "source": [
        "Write a function that calculates:\n",
        "\n",
        "$$\n",
        "\\frac{d^2 f(t)}{dt^2} \\Biggr\\rvert_\\mathrm{cd}\n",
        "=\n",
        "\\frac{\n",
        "\\left[\n",
        "f(t + h) - f(t)\n",
        "\\right] - \\left[\n",
        "f(t) - f(t - h)\n",
        "\\right]\n",
        "}{h^2}\n",
        "$$\n",
        "\n",
        "(The notes in class had a typo, fixed here.) Write a nice docstring as well."
      ]
    },
    {
      "cell_type": "code",
      "metadata": {
        "id": "FG1Mo2cYlL9t"
      },
      "source": [
        "def d2fdt2(f, t, h):\n",
        "  ''' Returns the numerical value of the second derivative of the provided\n",
        "        function, where f is the function f(t), t is the value at which the\n",
        "        second derivative is evaluated, and h is the numerical step size used\n",
        "        to calculate the second derivative using the central difference\n",
        "        definition of the derivative.\n",
        "\n",
        "  Parameters\n",
        "  ----------\n",
        "  f : callable\n",
        "    The function to differentiate.\n",
        "  t : float\n",
        "    The value at which the second derivative of f will be evaluated.\n",
        "  h : float\n",
        "    The step size used in the central difference definition of the derivative.\n",
        "\n",
        "  Returns\n",
        "  -------\n",
        "  float\n",
        "    The value of the second derivative of f at t.\n",
        "  '''\n",
        "  try:\n",
        "    ypp = ( (f(t+h) - f(t)) - (f(t) - f(t-h)) ) / h**2\n",
        "  except: # Intended to stop user from calling an undefined function, though this seems to be handled by Python anyway\n",
        "          # (uncomment the final line in the code block below; 'aaa' will not print so this except is not used).\n",
        "    print('aaa')\n",
        "    raise NameError()\n",
        "  \n",
        "  return ypp"
      ],
      "execution_count": 74,
      "outputs": []
    },
    {
      "cell_type": "markdown",
      "metadata": {
        "id": "NXCCSZ9xlL9v"
      },
      "source": [
        "Test your `d2fdt2` function on a function that you know the derivative for."
      ]
    },
    {
      "cell_type": "code",
      "metadata": {
        "id": "bte5PQZulL9w",
        "outputId": "8810623f-20c8-4d86-84ff-f78293de041d",
        "colab": {
          "base_uri": "https://localhost:8080/",
          "height": 204
        }
      },
      "source": [
        "def cube(x):\n",
        "  return x**3\n",
        "\n",
        "def exp_x2(x):\n",
        "  return np.exp(x**2) \n",
        "\n",
        "a = d2fdt2(cube, 1, 0.01)\n",
        "print('Second derivative of f(x) = x^3 is 6x.')\n",
        "print('d2fdt2(cube, 1, 0.01) = ', a)\n",
        "print('Compared to 6 from hand calculation.\\n')\n",
        "\n",
        "b = d2fdt2(np.sin, np.pi/2, 0.01)\n",
        "print('Second derivative of f(x) = sin(x) is -sin(x).')\n",
        "print('d2fdt2(sin, 1, 0.01) = ', b)\n",
        "print('Compared to numpy, -sin(pi/2) =', -np.sin(np.pi/2), ' or -1 analytically.\\n')\n",
        "\n",
        "c = d2fdt2(exp_x2, 1, 0.01)\n",
        "print('Second derivative of f(x) = exp(x^2) is [2*exp(x^2)] * (1 + 2*(x^2)).')\n",
        "print('d2fdt2(exp_x2, 1, 0.01) = ', c)\n",
        "print('Compared to 16.30969097 from scientific calculator.')"
      ],
      "execution_count": 75,
      "outputs": [
        {
          "output_type": "stream",
          "text": [
            "Second derivative of f(x) = x^3 is 6x.\n",
            "d2fdt2(cube, 1, 0.01) =  6.00000000000156\n",
            "Compared to 6 from hand calculation.\n",
            "\n",
            "Second derivative of f(x) = sin(x) is -sin(x).\n",
            "d2fdt2(sin, 1, 0.01) =  -0.9999916666947328\n",
            "Compared to numpy, -sin(pi/2) = -1.0  or -1 analytically.\n",
            "\n",
            "Second derivative of f(x) = exp(x^2) is [2*exp(x^2)] * (1 + 2*(x^2)).\n",
            "d2fdt2(exp_x2, 1, 0.01) =  16.311412653755575\n",
            "Compared to 16.30969097 from scientific calculator.\n"
          ],
          "name": "stdout"
        }
      ]
    }
  ]
}